{
 "cells": [
  {
   "cell_type": "markdown",
   "metadata": {},
   "source": [
    "# Using PyPi with pip Install\n",
    "\n",
    "PyPi is a repository for open-source third-party Python packages. It is similar to RubyGems for Ruby, PHP's Packagist, CPAN for Perl, and NPM for Node.js. \n",
    "\n",
    "Use pip install to install from PyPi. \n",
    "\n",
    "pip was automatically installed with the Anaconda distribution. "
   ]
  },
  {
   "cell_type": "markdown",
   "metadata": {},
   "source": [
    "# Writing your own Modules and Packages"
   ]
  },
  {
   "cell_type": "markdown",
   "metadata": {},
   "source": [
    "Modules are just .py scripts that you call in another .py script. Packages are a collection of modules. \n",
    "\n",
    "There is a key .py script called __init__.py that needs to be placed inside of a folder to let Python know that the collection of .py scripts should be treated as an entire package. \n",
    "\n",
    "We will be doing this work in a text editor. "
   ]
  },
  {
   "cell_type": "markdown",
   "metadata": {},
   "source": [
    "# \\_\\_name\\_\\_ and \\_\\_main\\_\\_"
   ]
  },
  {
   "cell_type": "markdown",
   "metadata": {},
   "source": [
    "As you start working with larger python programs, you will start to see the following code:"
   ]
  },
  {
   "cell_type": "code",
   "execution_count": 1,
   "metadata": {},
   "outputs": [],
   "source": [
    "if __name__ == \"__main__\":\n",
    "    # Some block of code to execute\n",
    "    pass"
   ]
  },
  {
   "cell_type": "markdown",
   "metadata": {},
   "source": [
    "Sometimes when you are importing from a module, you would like to know whether a module's function is being used as an import, or if you are using the original .py file of that module. "
   ]
  },
  {
   "cell_type": "markdown",
   "metadata": {},
   "source": [
    "When you run a python program, all the level 0 indentation code is going to get run. This is somewhat unique to Python as other languages have a main() function that they run. \n",
    "\n",
    "Also, Python has a variable, \\_\\_name\\_\\_, that gets assigned a string depending on how you are running the actual script. If you are running the script directly, the variable gets assigned the string \\_\\_main\\_\\_.\n",
    "\n",
    "This allows you to have an if block (code above) to check if the script is being run directly or as an import. \n",
    "\n",
    "What some peeople do is they will have a large number of function definitions in their script and have this if statement at the bottom with then calls to the functions they want to actually run. "
   ]
  },
  {
   "cell_type": "code",
   "execution_count": null,
   "metadata": {},
   "outputs": [],
   "source": []
  }
 ],
 "metadata": {
  "kernelspec": {
   "display_name": "Python 3",
   "language": "python",
   "name": "python3"
  },
  "language_info": {
   "codemirror_mode": {
    "name": "ipython",
    "version": 3
   },
   "file_extension": ".py",
   "mimetype": "text/x-python",
   "name": "python",
   "nbconvert_exporter": "python",
   "pygments_lexer": "ipython3",
   "version": "3.7.6"
  }
 },
 "nbformat": 4,
 "nbformat_minor": 4
}
