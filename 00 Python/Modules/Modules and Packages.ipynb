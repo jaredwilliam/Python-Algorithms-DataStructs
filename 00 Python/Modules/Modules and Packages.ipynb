{
 "cells": [
  {
   "cell_type": "markdown",
   "metadata": {},
   "source": [
    "# Using PyPi with pip Install\n",
    "\n",
    "PyPi is a repository for open-source third-party Python packages. It is similar to RubyGems for Ruby, PHP's Packagist, CPAN for Perl, and NPM for Node.js. \n",
    "\n",
    "Use pip install to install from PyPi. \n",
    "\n",
    "pip was automatically installed with the Anaconda distribution. "
   ]
  },
  {
   "cell_type": "markdown",
   "metadata": {},
   "source": [
    "# Writing your own Modules and Packages"
   ]
  },
  {
   "cell_type": "markdown",
   "metadata": {},
   "source": [
    "Modules are just .py scripts that you call in another .py script. Packages are a collection of modules. \n",
    "\n",
    "There is a key .py script called __init__.py that needs to be placed inside of a folder to let Python know that the collection of .py scripts should be treated as an entire package. \n",
    "\n",
    "We will be doing this work in a text editor. "
   ]
  },
  {
   "cell_type": "code",
   "execution_count": null,
   "metadata": {},
   "outputs": [],
   "source": []
  }
 ],
 "metadata": {
  "kernelspec": {
   "display_name": "Python 3",
   "language": "python",
   "name": "python3"
  },
  "language_info": {
   "codemirror_mode": {
    "name": "ipython",
    "version": 3
   },
   "file_extension": ".py",
   "mimetype": "text/x-python",
   "name": "python",
   "nbconvert_exporter": "python",
   "pygments_lexer": "ipython3",
   "version": "3.7.6"
  }
 },
 "nbformat": 4,
 "nbformat_minor": 4
}
