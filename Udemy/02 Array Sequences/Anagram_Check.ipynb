{
 "cells": [
  {
   "cell_type": "code",
   "execution_count": 85,
   "metadata": {},
   "outputs": [],
   "source": [
    "s1 = 'd gor'\n",
    "s2 = 'God'"
   ]
  },
  {
   "cell_type": "code",
   "execution_count": 86,
   "metadata": {},
   "outputs": [],
   "source": [
    "# def anagram(s1, s2):\n",
    "#     s1 = s1.lower().replace(' ','')\n",
    "#     s2 = s2.lower().replace(' ','')\n",
    "\n",
    "#     for letter in s1:\n",
    "#         if letter not in s2:\n",
    "#             return False\n",
    "#         else:\n",
    "#             return True\n",
    "        \n",
    "        \n",
    "# The current issue is that the current algorithm doesn't remove the letter from the list when it checks it. \n",
    "# This is a problem because the current version of the algorithm would conclude that 'abc' and 'aabbcc' were anagrams.\n",
    "# The algorithm needs to check to see if a letter in s1 is also in s2. If it is not in s2 - return false. If it is in \n",
    "# s2, then remove that letter from both s1 and s2 and move on to the next letter in s1. "
   ]
  },
  {
   "cell_type": "code",
   "execution_count": 96,
   "metadata": {},
   "outputs": [],
   "source": [
    "def anagram(s1, s2):\n",
    "    s1 = s1.lower().replace(' ','')\n",
    "    s2 = s2.lower().replace(' ','')\n",
    "    \n",
    "    s1 = list(s1)\n",
    "    s2 = list(s2)\n",
    "    \n",
    "    result = True\n",
    "    \n",
    "    for letter in s1:\n",
    "        if letter not in s2:\n",
    "            return False\n",
    "        else:\n",
    "            \n",
    "            print('s1 before: {}'.format(s1))\n",
    "            print('s2 before: {}'.format(s2))\n",
    "            \n",
    "            del s1[s1.index(letter)]\n",
    "            del s2[s2.index(letter)]\n",
    "            \n",
    "            print('s1 after: {}'.format(s1))\n",
    "            print('s2 after: {}'.format(s2))           \n",
    "            \n",
    "    return True"
   ]
  },
  {
   "cell_type": "code",
   "execution_count": 110,
   "metadata": {},
   "outputs": [],
   "source": [
    "def anagram(s1, s2):\n",
    "    s1 = s1.lower().replace(' ','')\n",
    "    s2 = s2.lower().replace(' ','')\n",
    "    \n",
    "    s1 = list(s1)\n",
    "    s2 = list(s2)\n",
    "    \n",
    "    while len(s1)>0:\n",
    "        if s1[0] not in s2:\n",
    "            return False\n",
    "        else:            \n",
    "            del s2[s2.index(s1[0])]\n",
    "            del s1[0]        \n",
    "    return True"
   ]
  },
  {
   "cell_type": "code",
   "execution_count": 111,
   "metadata": {},
   "outputs": [
    {
     "data": {
      "text/plain": [
       "False"
      ]
     },
     "execution_count": 111,
     "metadata": {},
     "output_type": "execute_result"
    }
   ],
   "source": [
    "anagram('aabbcc','aabbc')"
   ]
  },
  {
   "cell_type": "code",
   "execution_count": 117,
   "metadata": {},
   "outputs": [
    {
     "name": "stdout",
     "output_type": "stream",
     "text": [
      "ALL TEST CASES PASSED\n"
     ]
    }
   ],
   "source": [
    "from nose.tools import assert_equal\n",
    "\n",
    "class AnagramTest(object):\n",
    "    \n",
    "    def test(self,sol):\n",
    "        assert_equal(sol('go go go','gggooo'),True)\n",
    "        assert_equal(sol('abc','cba'),True)\n",
    "        assert_equal(sol('hi man','hi     man'),True)\n",
    "        assert_equal(sol('aabbcc','aabbc'),False)\n",
    "        assert_equal(sol('123','1 2'),False)\n",
    "        print(\"ALL TEST CASES PASSED\")\n",
    "\n",
    "# Run Tests\n",
    "t = AnagramTest()\n",
    "t.test(anagram)"
   ]
  },
  {
   "cell_type": "markdown",
   "metadata": {},
   "source": [
    "# Solution from Lecture"
   ]
  },
  {
   "cell_type": "markdown",
   "metadata": {},
   "source": [
    "If two strings have the same number of identical letters as each other, they are anagrams. Also if they are equivalent once sorted, they are anagrams. "
   ]
  },
  {
   "cell_type": "markdown",
   "metadata": {},
   "source": [
    "Sorting one first since it is easier:"
   ]
  },
  {
   "cell_type": "code",
   "execution_count": 118,
   "metadata": {},
   "outputs": [],
   "source": [
    "def anagram(s1, s2):\n",
    "    s1 = s1.replace(' ','').lower()\n",
    "    s2 = s2.replace(' ','').lower()\n",
    "    \n",
    "    return sorted(s1) == sorted(s2)\n",
    "\n",
    "# well this was much easier. I looked into sorting string at first but \n",
    "# i didn't find this function. TIL. "
   ]
  },
  {
   "cell_type": "markdown",
   "metadata": {},
   "source": [
    "In an interview however, you might be asked to do a more manual solve to demonstrate your understanding of different topics. "
   ]
  },
  {
   "cell_type": "code",
   "execution_count": 119,
   "metadata": {},
   "outputs": [],
   "source": [
    "def anagram2(s1, s2):\n",
    "    s1 = s1.replace(' ','').lower()\n",
    "    s2 = s2.replace(' ','').lower()\n",
    "    \n",
    "    # Edge case check\n",
    "    # if both strings don't have the same number of letters, it automatically \n",
    "    # is not an anagram\n",
    "    if len(s1) != len(s2):\n",
    "        return False\n",
    "    \n",
    "    count = {}\n",
    "    \n",
    "    # Loop through the string\n",
    "    # if the letter is already in the count, add 1\n",
    "    # if it is not in count, make the count = 1\n",
    "    for letter in s1:\n",
    "        if letter in count:\n",
    "            count[letter] += 1\n",
    "        else:\n",
    "            count[letter] = 1\n",
    "    \n",
    "    for letter in s2:\n",
    "        if letter in count:\n",
    "            count[letter] -= 1\n",
    "        else:\n",
    "            count[letter] = 1\n",
    "    \n",
    "    for k in count:\n",
    "        if count[k] != 0:\n",
    "            return False\n",
    "    \n",
    "    return True"
   ]
  },
  {
   "cell_type": "code",
   "execution_count": 120,
   "metadata": {},
   "outputs": [
    {
     "data": {
      "text/plain": [
       "True"
      ]
     },
     "execution_count": 120,
     "metadata": {},
     "output_type": "execute_result"
    }
   ],
   "source": [
    "anagram2('clint eastwood', 'old west action')"
   ]
  },
  {
   "cell_type": "code",
   "execution_count": null,
   "metadata": {},
   "outputs": [],
   "source": []
  }
 ],
 "metadata": {
  "kernelspec": {
   "display_name": "Python 3",
   "language": "python",
   "name": "python3"
  },
  "language_info": {
   "codemirror_mode": {
    "name": "ipython",
    "version": 3
   },
   "file_extension": ".py",
   "mimetype": "text/x-python",
   "name": "python",
   "nbconvert_exporter": "python",
   "pygments_lexer": "ipython3",
   "version": "3.7.6"
  }
 },
 "nbformat": 4,
 "nbformat_minor": 4
}
