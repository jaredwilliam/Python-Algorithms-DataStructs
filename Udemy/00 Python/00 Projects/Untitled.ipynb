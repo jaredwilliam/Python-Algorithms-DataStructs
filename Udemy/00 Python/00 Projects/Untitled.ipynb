{
 "cells": [
  {
   "cell_type": "markdown",
   "metadata": {},
   "source": [
    "Simplified version of black jack.\n",
    "\n",
    "Player has a bank roll and places bet. \n",
    "\n",
    "Player starts with 2 cards face up. \n",
    "\n",
    "Dealer starts with 1 card face up and 1 card face down. \n",
    "\n",
    "Player goes first in gameplay. \n",
    "\n",
    "Player goal is to get closer to a total value of 21 than the dealer does. \n",
    "\n",
    "Possible actions:\n",
    "1. Hit (receive another card)\n",
    "2. Stay (stop receiving cards)\n",
    "\n",
    "If the player goes over 21, they bust and lost the bet. If they hit 21 exactly, they win. \n",
    "\n",
    "After player turn - If player is under 21, dealer then hits until they either beat the player of the dealer busts. \n",
    "\n",
    "Dealer wins if their sum is higher than the players are still under 21. Loses if they go over 21. \n",
    "\n",
    "If player wins, they get back double their bet money. \n",
    "\n",
    "Special rules:\n",
    "- face cards count as a value of ten\n",
    "- aces can count as either 1 or 11 - whichever is preferable to the player"
   ]
  },
  {
   "cell_type": "code",
   "execution_count": 12,
   "metadata": {},
   "outputs": [],
   "source": [
    "import random\n",
    "suits = ('Hearts', 'Diamonds', 'Spades', 'Clubs')\n",
    "rank = ('Two', 'Three', 'Four', 'Five', 'Six', 'Seven', 'Eight', 'Nine',\n",
    "        'Ten', 'Jack', 'Queen', 'King','Ace')\n",
    "values = {'Two':2, 'Three':3, 'Four':4, 'Five':5, 'Six':6, 'Seven':7, 'Eight':8, \n",
    "          'Nine':9,  'Ten':10, 'Jack':10, 'Queen':10, 'King':10,'Ace':11}\n",
    "\n",
    "playing = True"
   ]
  },
  {
   "cell_type": "code",
   "execution_count": 13,
   "metadata": {},
   "outputs": [],
   "source": [
    "class Card:\n",
    "    \n",
    "    def __init__(self, suit, rank):\n",
    "        self.suit = suit\n",
    "        self.rank = rank\n",
    "    \n",
    "    def __str__(self):\n",
    "        return '{} of {}'.format(self.rank, self.suit)"
   ]
  },
  {
   "cell_type": "code",
   "execution_count": 16,
   "metadata": {},
   "outputs": [],
   "source": [
    "class Deck:\n",
    "    \n",
    "    def __init__(self):\n",
    "        self.deck = []\n",
    "        for suit in suits:\n",
    "            for rank in ranks:\n",
    "                created_card = Card(suit,rank)\n",
    "                self.deck.append(created_card)\n",
    "        \n",
    "    def __str__(self):\n",
    "        deck_comp = []\n",
    "        for card in self.deck:\n",
    "            deck_comp += '\\n' + card.__str__()\n",
    "        return 'The deck has: ' + deck_comp\n",
    "    \n",
    "    def shuffle(self):\n",
    "        random.shuffle(self.deck)\n",
    "        \n",
    "    def deal(self):\n",
    "        single_card = self.deck.pop()\n",
    "        return single_card"
   ]
  },
  {
   "cell_type": "code",
   "execution_count": 18,
   "metadata": {},
   "outputs": [],
   "source": [
    "class Hand:\n",
    "    \n",
    "    def __init__(self):\n",
    "        self.cards = []\n",
    "        self.value = 0\n",
    "        self.aces = 0\n",
    "        \n",
    "    def add_card(self, ncard):\n",
    "        self.cards.append(card)\n",
    "        self.value += values[card.rank]\n",
    "        \n",
    "        # Track Aces\n",
    "        if card.rank == 'Ace':\n",
    "            self.aces += 1\n",
    "    \n",
    "    def adjust_for_ace(self):\n",
    "        while self.value > 21 and self.aces:\n",
    "            self.value -= 10\n",
    "            self.aces -= 1"
   ]
  },
  {
   "cell_type": "code",
   "execution_count": 19,
   "metadata": {},
   "outputs": [],
   "source": [
    "class Chips:\n",
    "    \n",
    "    def __init__(self, total=100):\n",
    "        self.total = total\n",
    "        self.bet = 0\n",
    "    \n",
    "    def win_bet(self):\n",
    "        self.total += self.bet\n",
    "    \n",
    "    def lose_bet(self):\n",
    "        self.total -= self.bet"
   ]
  },
  {
   "cell_type": "code",
   "execution_count": null,
   "metadata": {},
   "outputs": [],
   "source": [
    "def take_bet(chips):\n",
    "    \n",
    "    while True:\n",
    "        try:\n",
    "            chips.bet = int(input(\"How many chips would you like to bet? \"))\n",
    "        except:\n",
    "            print('Please provide an integer')\n",
    "        else:\n",
    "            if chips.bet > chips.total:\n",
    "                print('Sorry you do not have enough chips! You have: {}'.format(chips.total))\n",
    "            else:\n",
    "                break"
   ]
  },
  {
   "cell_type": "code",
   "execution_count": 20,
   "metadata": {},
   "outputs": [],
   "source": [
    "def hit(deck, hand):\n",
    "    \n",
    "    single_card = deck.deal()\n",
    "    hand.add_card(single_card)\n",
    "    hand.adjust_for_ace()"
   ]
  },
  {
   "cell_type": "code",
   "execution_count": 21,
   "metadata": {},
   "outputs": [],
   "source": [
    "def hit_or_stand(deck, hand):\n",
    "    global playing\n",
    "    \n",
    "    while True:\n",
    "        x = input('Hit or Stand? Enter h or s: ')\n",
    "        if x[0].lower() == 'h':\n",
    "            hit(deck, hand)\n",
    "        elif x[0].lower() == 's':\n",
    "            print('Player Stands, Dealer\\'s Turn')\n",
    "            playing = False\n",
    "        else:\n",
    "            print('Please enter h or s only')\n",
    "            continue\n",
    "        break"
   ]
  },
  {
   "cell_type": "code",
   "execution_count": 22,
   "metadata": {},
   "outputs": [],
   "source": [
    "def player_busts(player,dealer,chips):\n",
    "    print('Bust Player')\n",
    "    chips.lose_bet()\n",
    "\n",
    "def player_win(player,dealer,chips):\n",
    "    print(' Player Wins')\n",
    "    chips.win_bet()\n",
    "    \n",
    "def dealer_busts(player,dealer,chips):\n",
    "    print(' Player Wins, Dealer Busted')\n",
    "    chips.win_bet()\n",
    "\n",
    "def dealer_win(player,dealer,chips):\n",
    "    print('Dealer wins')\n",
    "    chips.lose_bet()\n",
    "\n",
    "def push(player,dealer):\n",
    "    print('It\\'s a tie!')"
   ]
  },
  {
   "cell_type": "code",
   "execution_count": null,
   "metadata": {},
   "outputs": [],
   "source": []
  }
 ],
 "metadata": {
  "kernelspec": {
   "display_name": "Python 3",
   "language": "python",
   "name": "python3"
  },
  "language_info": {
   "codemirror_mode": {
    "name": "ipython",
    "version": 3
   },
   "file_extension": ".py",
   "mimetype": "text/x-python",
   "name": "python",
   "nbconvert_exporter": "python",
   "pygments_lexer": "ipython3",
   "version": "3.7.6"
  }
 },
 "nbformat": 4,
 "nbformat_minor": 4
}
