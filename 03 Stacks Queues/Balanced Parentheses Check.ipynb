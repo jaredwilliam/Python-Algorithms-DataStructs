{
 "cells": [
  {
   "cell_type": "markdown",
   "metadata": {},
   "source": [
    "## Balanced Parentheses Check\n",
    "**Problem Statement**\n",
    "Given a string of opening and closing parentheses, check whether it is balanced. We have 3 types of parentheses: round brackets (), square brackets [], and curly brackets {}. Assume that the string doesn't contain any other character other than these - no spaces, words, or numbers. As a reminder, balanced parentheses require every opening parenthesis to be closed in the reverse order opened. For example, '([])' is balanced but '([)]' is not. "
   ]
  },
  {
   "cell_type": "code",
   "execution_count": 25,
   "metadata": {},
   "outputs": [],
   "source": [
    "def balance_check(s):\n",
    "    open_item = ['(', '[', '{']\n",
    "    close_item = [')', ']', '}']\n",
    "    \n",
    "    s = list(s)\n",
    "    \n",
    "    for item in s:\n",
    "        if item in close_item:\n",
    "            return False\n",
    "    "
   ]
  },
  {
   "cell_type": "markdown",
   "metadata": {},
   "source": [
    "Initial thoughts\n",
    "- check the first item\n",
    "    - is it a closing item?\n",
    "        - yes -> return False\n",
    "        - no -> store item and continue\n",
    "- check the second item\n",
    "    - is the second item the closing equivalent to the first?\n",
    "        - yes -> unstore items (not needed), continue to next item\n",
    "        - no -> store item and continue\n",
    "        \n",
    "You could also count the instances, but the order matters. So you look at the first item and it's a '('. Increatement the '(' by one. The second item is a '[' and you increment that by one. If ')' appears next, we know it's not balanced. So if the '(' count is to be decremented before the '[' count, then it is possible that it is not balanced.\n",
    "\n",
    "This may not work for a string such as '([()])'. \n",
    "\n",
    "Well as long as the count of '(' doesn't drop **below** the count of '[' - it *should* be ok...?"
   ]
  },
  {
   "cell_type": "code",
   "execution_count": 27,
   "metadata": {},
   "outputs": [],
   "source": [
    "s = '[]' "
   ]
  },
  {
   "cell_type": "code",
   "execution_count": 21,
   "metadata": {},
   "outputs": [
    {
     "name": "stdout",
     "output_type": "stream",
     "text": [
      "open item\n"
     ]
    }
   ],
   "source": [
    "open_item = ['(', '[', '{']\n",
    "close_item = [')', ']', '}']\n",
    "s = list(s)\n",
    "for i in s:\n",
    "    \n",
    "    \n",
    "    "
   ]
  },
  {
   "cell_type": "code",
   "execution_count": 26,
   "metadata": {},
   "outputs": [
    {
     "data": {
      "text/plain": [
       "True"
      ]
     },
     "execution_count": 26,
     "metadata": {},
     "output_type": "execute_result"
    }
   ],
   "source": [
    "balance_check('[')"
   ]
  },
  {
   "cell_type": "code",
   "execution_count": null,
   "metadata": {},
   "outputs": [],
   "source": []
  }
 ],
 "metadata": {
  "kernelspec": {
   "display_name": "Python 3",
   "language": "python",
   "name": "python3"
  },
  "language_info": {
   "codemirror_mode": {
    "name": "ipython",
    "version": 3
   },
   "file_extension": ".py",
   "mimetype": "text/x-python",
   "name": "python",
   "nbconvert_exporter": "python",
   "pygments_lexer": "ipython3",
   "version": "3.7.6"
  }
 },
 "nbformat": 4,
 "nbformat_minor": 4
}
