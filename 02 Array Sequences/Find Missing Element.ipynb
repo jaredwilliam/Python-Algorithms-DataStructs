{
 "cells": [
  {
   "cell_type": "markdown",
   "metadata": {},
   "source": [
    "## Problem\n",
    "Consider an array of non-negative integers. A second array is formed by shuffling the elements on the first array and deleting a random element. Given these two arrays, find which element is missing in the second array. \n",
    "\n",
    "Here is an example input, the first array is shuffled and the number 5 is removed to contruct the second array. \n",
    "\n",
    "Input:\n",
    "\n",
    "finder([1,2,3,4,5,6,7], [3,7,2,1,4,6])\n",
    "\n",
    "Output:\n",
    "\n",
    "5 is the missing number"
   ]
  },
  {
   "cell_type": "code",
   "execution_count": 156,
   "metadata": {},
   "outputs": [],
   "source": [
    "def finder(arr1, arr2):\n",
    "    my_dict = {}\n",
    "    # Create a dictionary that keeps track of the frequency of numbers\n",
    "    for num in arr1:\n",
    "        if str(num) not in my_dict.keys():\n",
    "            my_dict[str(num)] = 1\n",
    "        else:\n",
    "            my_dict[str(num)] += 1\n",
    "    \n",
    "    # Loop through second array, decrementing count\n",
    "    for num in arr2:\n",
    "        my_dict[str(num)] -= 1\n",
    "       \n",
    "    # Find the number whose count is not 0 (meaning it was deleted from the array)\n",
    "    for key in my_dict:\n",
    "        if my_dict[key] != 0:\n",
    "            return int(key)"
   ]
  },
  {
   "cell_type": "code",
   "execution_count": 157,
   "metadata": {
    "scrolled": true
   },
   "outputs": [
    {
     "name": "stdout",
     "output_type": "stream",
     "text": [
      "ALL TEST CASES PASSED\n"
     ]
    }
   ],
   "source": [
    "from nose.tools import assert_equal\n",
    "\n",
    "class TestFinder(object):\n",
    "    \n",
    "    def test(self,sol):\n",
    "        assert_equal(sol([5,5,7,7],[5,7,7]),5)\n",
    "        assert_equal(sol([1,2,3,4,5,6,7],[3,7,2,1,4,6]),5)\n",
    "        assert_equal(sol([9,8,7,6,5,4,3,2,1],[9,8,7,5,4,3,2,1]),6)\n",
    "        print('ALL TEST CASES PASSED')\n",
    "\n",
    "# Run test\n",
    "t = TestFinder()\n",
    "t.test(finder)"
   ]
  },
  {
   "cell_type": "markdown",
   "metadata": {},
   "source": [
    "## Course Solution"
   ]
  },
  {
   "cell_type": "markdown",
   "metadata": {},
   "source": [
    "The naive solution is to go through every element in the second array and check whether it appears in the first array. Note that there may be duplicate elements in the arrays so we should pay special attention to it. The complexity of this approach is O(N^2), since we would need two for loops. \n",
    "\n",
    "A more efficient solution is to sort the first array, so while checking whether an element in the first array appears in the second, we can do binary search (we will learn about binary search in more detail later). But we should still be careful about duplicate elements. The complexity is O(NlogN). \n",
    "\n",
    "If we don't want to deal with the special case of duplicate numbers, we can sort both arrays and iterate over them simultaneously. Once two iterators have different values we can stop. The value of the first iterator is the missing element. This solution is also O(NlogN). Here is that solution:"
   ]
  },
  {
   "cell_type": "code",
   "execution_count": 158,
   "metadata": {},
   "outputs": [],
   "source": [
    "def finder(arr1, arr2):\n",
    "    \n",
    "    # Sort the arrays\n",
    "    arr1.sort()\n",
    "    arr2.sort()\n",
    "    \n",
    "    for num1, num2 in zip(arr1, arr2):\n",
    "        if num1 != num2:\n",
    "            return num1\n",
    "        \n",
    "    return arr[-1]"
   ]
  },
  {
   "cell_type": "raw",
   "metadata": {},
   "source": [
    "Here is an explanation as to what zip does:"
   ]
  },
  {
   "cell_type": "code",
   "execution_count": 164,
   "metadata": {},
   "outputs": [
    {
     "name": "stdout",
     "output_type": "stream",
     "text": [
      "((1, 4), (2, 5), (3, 6))\n"
     ]
    }
   ],
   "source": [
    "print(tuple(zip([1,2,3],[4,5,6])))"
   ]
  },
  {
   "cell_type": "markdown",
   "metadata": {},
   "source": [
    "In an interview, we may be asked to come up with a linear time solution. \n",
    "\n",
    "We can use a hash table and store the number of times each element appears in the second array, the go through the first array and decrease this counter. "
   ]
  },
  {
   "cell_type": "code",
   "execution_count": 165,
   "metadata": {},
   "outputs": [],
   "source": [
    "import collections"
   ]
  },
  {
   "cell_type": "code",
   "execution_count": 168,
   "metadata": {},
   "outputs": [],
   "source": [
    "def finder2(arr1, arr2):\n",
    "    # I believe this line isn't necessary in Python 3\n",
    "    d = collections.defaultdict(int)\n",
    "    \n",
    "    for num in arr2:\n",
    "        d[num] += 1\n",
    "    \n",
    "    for num in arr1:\n",
    "        # If the number wasn't counted in the second array, it must be missing\n",
    "        if d[num] == 0:\n",
    "            return num\n",
    "        # Otherwise, subtract the count\n",
    "        else:\n",
    "            d[num] -= 1"
   ]
  },
  {
   "cell_type": "markdown",
   "metadata": {},
   "source": [
    "## Comments\n",
    "It seems that I was actually pretty close to the course solution. There are some ways I could have simplified it. \n",
    "\n",
    "First, realizing that if a key wasn't present in a dictionary, that the key would automatically be added. This would eliminate the if/else statement in the first for loop - I would just have to loop through the array and count the numbers. \n",
    "\n",
    "Second simplification was realizing that keys in dictionaries can be integers. This would have saved me some key strokes. \n",
    "\n",
    "Third, I could have made the dictionary based off the second array and followed the same decrementing approach I took. This would allow me to check the values along the way, eliminating the third for loop, because if the value in the dictionary for the associated number in the first array that is currently being checked is equal to 0, we know that it is the missing element. "
   ]
  },
  {
   "cell_type": "code",
   "execution_count": null,
   "metadata": {},
   "outputs": [],
   "source": []
  }
 ],
 "metadata": {
  "kernelspec": {
   "display_name": "Python 3",
   "language": "python",
   "name": "python3"
  },
  "language_info": {
   "codemirror_mode": {
    "name": "ipython",
    "version": 3
   },
   "file_extension": ".py",
   "mimetype": "text/x-python",
   "name": "python",
   "nbconvert_exporter": "python",
   "pygments_lexer": "ipython3",
   "version": "3.7.6"
  }
 },
 "nbformat": 4,
 "nbformat_minor": 4
}
